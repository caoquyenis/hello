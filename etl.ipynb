{
 "cells": [
  {
   "cell_type": "markdown",
   "metadata": {},
   "source": [
    "# ETL Processes\n",
    "Use this notebook to develop the ETL process for each of your tables before completing the `etl.py` file to load the whole datasets."
   ]
  },
  {
   "cell_type": "code",
   "execution_count": 49,
   "metadata": {},
   "outputs": [],
   "source": [
    "import os\n",
    "import glob\n",
    "import psycopg2\n",
    "import pandas as pd\n",
    "from sql_queries import *"
   ]
  },
  {
   "cell_type": "code",
   "execution_count": 50,
   "metadata": {},
   "outputs": [],
   "source": [
    "conn = psycopg2.connect(\"host=localhost dbname=sparkifydb user=genie password=123456\")\n",
    "cur = conn.cursor()"
   ]
  },
  {
   "cell_type": "code",
   "execution_count": 51,
   "metadata": {},
   "outputs": [],
   "source": [
    "def get_files(filepath):\n",
    "    all_files = []\n",
    "    for root, dirs, files in os.walk(filepath):\n",
    "        files = glob.glob(os.path.join(root,'*.json'))\n",
    "        for f in files :\n",
    "            all_files.append(os.path.abspath(f))\n",
    "    \n",
    "    return all_files"
   ]
  },
  {
   "cell_type": "markdown",
   "metadata": {},
   "source": [
    "# Process `song_data`\n",
    "In this first part, you'll perform ETL on the first dataset, `song_data`, to create the `songs` and `artists` dimensional tables.\n",
    "\n",
    "Let's perform ETL on a single song file and load a single record into each table to start.\n",
    "- Use the `get_files` function provided above to get a list of all song JSON files in `data/song_data`\n",
    "- Select the first song in this list\n",
    "- Read the song file and view the data"
   ]
  },
  {
   "cell_type": "code",
   "execution_count": 52,
   "metadata": {},
   "outputs": [],
   "source": [
    "song_files = get_files('data/song_data/')"
   ]
  },
  {
   "cell_type": "code",
   "execution_count": 53,
   "metadata": {},
   "outputs": [
    {
     "data": {
      "text/plain": [
       "'/Users/genie/hello/data/song_data/A/A/A/TRAAARJ128F9320760.json'"
      ]
     },
     "execution_count": 53,
     "metadata": {},
     "output_type": "execute_result"
    }
   ],
   "source": [
    "filepath = song_files[1]\n",
    "filepath"
   ]
  },
  {
   "cell_type": "code",
   "execution_count": 54,
   "metadata": {},
   "outputs": [
    {
     "data": {
      "text/plain": [
       "num_songs                            1\n",
       "artist_id           AR8ZCNI1187B9A069B\n",
       "artist_latitude                   None\n",
       "artist_longitude                  None\n",
       "artist_location                       \n",
       "artist_name           Planet P Project\n",
       "song_id             SOIAZJW12AB01853F1\n",
       "title                       Pink World\n",
       "duration                     269.81832\n",
       "year                              1984\n",
       "dtype: object"
      ]
     },
     "execution_count": 54,
     "metadata": {},
     "output_type": "execute_result"
    }
   ],
   "source": [
    "df = pd.read_json(filepath, typ='series')\n",
    "df.head(10)\n"
   ]
  },
  {
   "cell_type": "markdown",
   "metadata": {},
   "source": [
    "## #1: `songs` Table\n",
    "#### Extract Data for Songs Table\n",
    "- Select columns for song ID, title, artist ID, year, and duration\n",
    "- Use `df.values` to select just the values from the dataframe\n",
    "- Index to select the first (only) record in the dataframe\n",
    "- Convert the array to a list and set it to `song_data`"
   ]
  },
  {
   "cell_type": "code",
   "execution_count": 55,
   "metadata": {},
   "outputs": [
    {
     "data": {
      "text/plain": [
       "array(['SOIAZJW12AB01853F1', 'AR8ZCNI1187B9A069B', 1984, 269.81832],\n",
       "      dtype=object)"
      ]
     },
     "execution_count": 55,
     "metadata": {},
     "output_type": "execute_result"
    }
   ],
   "source": [
    "song_data = df[[\"song_id\", \"artist_id\", \"year\", \"duration\"]].values\n",
    "song_data"
   ]
  },
  {
   "cell_type": "markdown",
   "metadata": {},
   "source": [
    "#### Insert Record into Song Table\n",
    "Implement the `song_table_insert` query in `sql_queries.py` and run the cell below to insert a record for this song into the `songs` table. Remember to run `create_tables.py` before running the cell below to ensure you've created/resetted the `songs` table in the sparkify database."
   ]
  },
  {
   "cell_type": "code",
   "execution_count": 56,
   "metadata": {},
   "outputs": [],
   "source": [
    "cur.execute(songs_table_insert, song_data)\n",
    "conn.commit()"
   ]
  },
  {
   "cell_type": "markdown",
   "metadata": {},
   "source": [
    "Run `test.ipynb` to see if you've successfully added a record to this table."
   ]
  },
  {
   "cell_type": "markdown",
   "metadata": {},
   "source": [
    "## #2: `artists` Table\n",
    "#### Extract Data for Artists Table\n",
    "- Select columns for artist ID, name, location, latitude, and longitude\n",
    "- Use `df.values` to select just the values from the dataframe\n",
    "- Index to select the first (only) record in the dataframe\n",
    "- Convert the array to a list and set it to `artist_data`"
   ]
  },
  {
   "cell_type": "code",
   "execution_count": 57,
   "metadata": {},
   "outputs": [
    {
     "data": {
      "text/plain": [
       "array(['AR8ZCNI1187B9A069B', 'Planet P Project', '', None, None],\n",
       "      dtype=object)"
      ]
     },
     "execution_count": 57,
     "metadata": {},
     "output_type": "execute_result"
    }
   ],
   "source": [
    "artist_data = df[[\"artist_id\", \"artist_name\", \"artist_location\", \"artist_latitude\", \"artist_longitude\"]].values\n",
    "artist_data"
   ]
  },
  {
   "cell_type": "markdown",
   "metadata": {},
   "source": [
    "#### Insert Record into Artist Table\n",
    "Implement the `artist_table_insert` query in `sql_queries.py` and run the cell below to insert a record for this song's artist into the `artists` table. Remember to run `create_tables.py` before running the cell below to ensure you've created/resetted the `artists` table in the sparkify database."
   ]
  },
  {
   "cell_type": "code",
   "execution_count": 58,
   "metadata": {},
   "outputs": [],
   "source": [
    "cur.execute(artists_table_insert, artist_data)\n",
    "conn.commit()"
   ]
  },
  {
   "cell_type": "markdown",
   "metadata": {},
   "source": [
    "Run `test.ipynb` to see if you've successfully added a record to this table."
   ]
  },
  {
   "cell_type": "markdown",
   "metadata": {},
   "source": [
    "# Process `log_data`\n",
    "In this part, you'll perform ETL on the second dataset, `log_data`, to create the `time` and `users` dimensional tables, as well as the `songplays` fact table.\n",
    "\n",
    "Let's perform ETL on a single log file and load a single record into each table.\n",
    "- Use the `get_files` function provided above to get a list of all log JSON files in `data/log_data`\n",
    "- Select the first log file in this list\n",
    "- Read the log file and view the data"
   ]
  },
  {
   "cell_type": "code",
   "execution_count": 85,
   "metadata": {},
   "outputs": [
    {
     "data": {
      "text/plain": [
       "['/Users/genie/hello/data/log_data/2018/11/2018-11-11-events.json',\n",
       " '/Users/genie/hello/data/log_data/2018/11/2018-11-23-events.json',\n",
       " '/Users/genie/hello/data/log_data/2018/11/2018-11-18-events.json',\n",
       " '/Users/genie/hello/data/log_data/2018/11/2018-11-04-events.json',\n",
       " '/Users/genie/hello/data/log_data/2018/11/2018-11-01-events.json',\n",
       " '/Users/genie/hello/data/log_data/2018/11/2018-11-14-events.json',\n",
       " '/Users/genie/hello/data/log_data/2018/11/2018-11-08-events.json',\n",
       " '/Users/genie/hello/data/log_data/2018/11/2018-11-26-events.json',\n",
       " '/Users/genie/hello/data/log_data/2018/11/2018-11-25-events.json',\n",
       " '/Users/genie/hello/data/log_data/2018/11/2018-11-17-events.json',\n",
       " '/Users/genie/hello/data/log_data/2018/11/2018-11-02-events.json',\n",
       " '/Users/genie/hello/data/log_data/2018/11/2018-11-30-events.json',\n",
       " '/Users/genie/hello/data/log_data/2018/11/2018-11-07-events.json',\n",
       " '/Users/genie/hello/data/log_data/2018/11/2018-11-29-events.json',\n",
       " '/Users/genie/hello/data/log_data/2018/11/2018-11-20-events.json',\n",
       " '/Users/genie/hello/data/log_data/2018/11/2018-11-12-events.json',\n",
       " '/Users/genie/hello/data/log_data/2018/11/2018-11-09-events.json',\n",
       " '/Users/genie/hello/data/log_data/2018/11/2018-11-27-events.json',\n",
       " '/Users/genie/hello/data/log_data/2018/11/2018-11-15-events.json',\n",
       " '/Users/genie/hello/data/log_data/2018/11/2018-11-05-events.json',\n",
       " '/Users/genie/hello/data/log_data/2018/11/2018-11-19-events.json',\n",
       " '/Users/genie/hello/data/log_data/2018/11/2018-11-22-events.json',\n",
       " '/Users/genie/hello/data/log_data/2018/11/2018-11-10-events.json',\n",
       " '/Users/genie/hello/data/log_data/2018/11/2018-11-13-events.json',\n",
       " '/Users/genie/hello/data/log_data/2018/11/2018-11-21-events.json',\n",
       " '/Users/genie/hello/data/log_data/2018/11/2018-11-06-events.json',\n",
       " '/Users/genie/hello/data/log_data/2018/11/2018-11-28-events.json',\n",
       " '/Users/genie/hello/data/log_data/2018/11/2018-11-03-events.json',\n",
       " '/Users/genie/hello/data/log_data/2018/11/2018-11-16-events.json',\n",
       " '/Users/genie/hello/data/log_data/2018/11/2018-11-24-events.json']"
      ]
     },
     "execution_count": 85,
     "metadata": {},
     "output_type": "execute_result"
    }
   ],
   "source": [
    "log_files = get_files('data/log_data/')\n",
    "log_files"
   ]
  },
  {
   "cell_type": "code",
   "execution_count": 83,
   "metadata": {},
   "outputs": [
    {
     "data": {
      "text/plain": [
       "'/Users/genie/hello/data/log_data/2018/11/2018-11-11-events.json'"
      ]
     },
     "execution_count": 83,
     "metadata": {},
     "output_type": "execute_result"
    }
   ],
   "source": [
    "filepath = log_files[0]\n",
    "filepath"
   ]
  },
  {
   "cell_type": "code",
   "execution_count": 87,
   "metadata": {},
   "outputs": [
    {
     "ename": "ValueError",
     "evalue": "Trailing data",
     "output_type": "error",
     "traceback": [
      "\u001b[0;31m---------------------------------------------------------------------------\u001b[0m",
      "\u001b[0;31mValueError\u001b[0m                                Traceback (most recent call last)",
      "\u001b[1;32m/Users/genie/hello/etl.ipynb Cell 22'\u001b[0m in \u001b[0;36m<cell line: 1>\u001b[0;34m()\u001b[0m\n\u001b[0;32m----> <a href='vscode-notebook-cell:/Users/genie/hello/etl.ipynb#ch0000021?line=0'>1</a>\u001b[0m df \u001b[39m=\u001b[39m pd\u001b[39m.\u001b[39;49mread_json(filepath, typ\u001b[39m=\u001b[39;49m\u001b[39m'\u001b[39;49m\u001b[39mseries\u001b[39;49m\u001b[39m'\u001b[39;49m)\n\u001b[1;32m      <a href='vscode-notebook-cell:/Users/genie/hello/etl.ipynb#ch0000021?line=1'>2</a>\u001b[0m df\u001b[39m.\u001b[39mhead(\u001b[39m5\u001b[39m)\n",
      "File \u001b[0;32m/usr/local/Caskroom/miniforge/base/envs/.myenv/lib/python3.8/site-packages/pandas/util/_decorators.py:207\u001b[0m, in \u001b[0;36mdeprecate_kwarg.<locals>._deprecate_kwarg.<locals>.wrapper\u001b[0;34m(*args, **kwargs)\u001b[0m\n\u001b[1;32m    <a href='file:///usr/local/Caskroom/miniforge/base/envs/.myenv/lib/python3.8/site-packages/pandas/util/_decorators.py?line=204'>205</a>\u001b[0m     \u001b[39melse\u001b[39;00m:\n\u001b[1;32m    <a href='file:///usr/local/Caskroom/miniforge/base/envs/.myenv/lib/python3.8/site-packages/pandas/util/_decorators.py?line=205'>206</a>\u001b[0m         kwargs[new_arg_name] \u001b[39m=\u001b[39m new_arg_value\n\u001b[0;32m--> <a href='file:///usr/local/Caskroom/miniforge/base/envs/.myenv/lib/python3.8/site-packages/pandas/util/_decorators.py?line=206'>207</a>\u001b[0m \u001b[39mreturn\u001b[39;00m func(\u001b[39m*\u001b[39;49margs, \u001b[39m*\u001b[39;49m\u001b[39m*\u001b[39;49mkwargs)\n",
      "File \u001b[0;32m/usr/local/Caskroom/miniforge/base/envs/.myenv/lib/python3.8/site-packages/pandas/util/_decorators.py:311\u001b[0m, in \u001b[0;36mdeprecate_nonkeyword_arguments.<locals>.decorate.<locals>.wrapper\u001b[0;34m(*args, **kwargs)\u001b[0m\n\u001b[1;32m    <a href='file:///usr/local/Caskroom/miniforge/base/envs/.myenv/lib/python3.8/site-packages/pandas/util/_decorators.py?line=304'>305</a>\u001b[0m \u001b[39mif\u001b[39;00m \u001b[39mlen\u001b[39m(args) \u001b[39m>\u001b[39m num_allow_args:\n\u001b[1;32m    <a href='file:///usr/local/Caskroom/miniforge/base/envs/.myenv/lib/python3.8/site-packages/pandas/util/_decorators.py?line=305'>306</a>\u001b[0m     warnings\u001b[39m.\u001b[39mwarn(\n\u001b[1;32m    <a href='file:///usr/local/Caskroom/miniforge/base/envs/.myenv/lib/python3.8/site-packages/pandas/util/_decorators.py?line=306'>307</a>\u001b[0m         msg\u001b[39m.\u001b[39mformat(arguments\u001b[39m=\u001b[39marguments),\n\u001b[1;32m    <a href='file:///usr/local/Caskroom/miniforge/base/envs/.myenv/lib/python3.8/site-packages/pandas/util/_decorators.py?line=307'>308</a>\u001b[0m         \u001b[39mFutureWarning\u001b[39;00m,\n\u001b[1;32m    <a href='file:///usr/local/Caskroom/miniforge/base/envs/.myenv/lib/python3.8/site-packages/pandas/util/_decorators.py?line=308'>309</a>\u001b[0m         stacklevel\u001b[39m=\u001b[39mstacklevel,\n\u001b[1;32m    <a href='file:///usr/local/Caskroom/miniforge/base/envs/.myenv/lib/python3.8/site-packages/pandas/util/_decorators.py?line=309'>310</a>\u001b[0m     )\n\u001b[0;32m--> <a href='file:///usr/local/Caskroom/miniforge/base/envs/.myenv/lib/python3.8/site-packages/pandas/util/_decorators.py?line=310'>311</a>\u001b[0m \u001b[39mreturn\u001b[39;00m func(\u001b[39m*\u001b[39;49margs, \u001b[39m*\u001b[39;49m\u001b[39m*\u001b[39;49mkwargs)\n",
      "File \u001b[0;32m/usr/local/Caskroom/miniforge/base/envs/.myenv/lib/python3.8/site-packages/pandas/io/json/_json.py:612\u001b[0m, in \u001b[0;36mread_json\u001b[0;34m(path_or_buf, orient, typ, dtype, convert_axes, convert_dates, keep_default_dates, numpy, precise_float, date_unit, encoding, encoding_errors, lines, chunksize, compression, nrows, storage_options)\u001b[0m\n\u001b[1;32m    <a href='file:///usr/local/Caskroom/miniforge/base/envs/.myenv/lib/python3.8/site-packages/pandas/io/json/_json.py?line=608'>609</a>\u001b[0m     \u001b[39mreturn\u001b[39;00m json_reader\n\u001b[1;32m    <a href='file:///usr/local/Caskroom/miniforge/base/envs/.myenv/lib/python3.8/site-packages/pandas/io/json/_json.py?line=610'>611</a>\u001b[0m \u001b[39mwith\u001b[39;00m json_reader:\n\u001b[0;32m--> <a href='file:///usr/local/Caskroom/miniforge/base/envs/.myenv/lib/python3.8/site-packages/pandas/io/json/_json.py?line=611'>612</a>\u001b[0m     \u001b[39mreturn\u001b[39;00m json_reader\u001b[39m.\u001b[39;49mread()\n",
      "File \u001b[0;32m/usr/local/Caskroom/miniforge/base/envs/.myenv/lib/python3.8/site-packages/pandas/io/json/_json.py:746\u001b[0m, in \u001b[0;36mJsonReader.read\u001b[0;34m(self)\u001b[0m\n\u001b[1;32m    <a href='file:///usr/local/Caskroom/miniforge/base/envs/.myenv/lib/python3.8/site-packages/pandas/io/json/_json.py?line=743'>744</a>\u001b[0m         obj \u001b[39m=\u001b[39m \u001b[39mself\u001b[39m\u001b[39m.\u001b[39m_get_object_parser(\u001b[39mself\u001b[39m\u001b[39m.\u001b[39m_combine_lines(data_lines))\n\u001b[1;32m    <a href='file:///usr/local/Caskroom/miniforge/base/envs/.myenv/lib/python3.8/site-packages/pandas/io/json/_json.py?line=744'>745</a>\u001b[0m \u001b[39melse\u001b[39;00m:\n\u001b[0;32m--> <a href='file:///usr/local/Caskroom/miniforge/base/envs/.myenv/lib/python3.8/site-packages/pandas/io/json/_json.py?line=745'>746</a>\u001b[0m     obj \u001b[39m=\u001b[39m \u001b[39mself\u001b[39;49m\u001b[39m.\u001b[39;49m_get_object_parser(\u001b[39mself\u001b[39;49m\u001b[39m.\u001b[39;49mdata)\n\u001b[1;32m    <a href='file:///usr/local/Caskroom/miniforge/base/envs/.myenv/lib/python3.8/site-packages/pandas/io/json/_json.py?line=746'>747</a>\u001b[0m \u001b[39mself\u001b[39m\u001b[39m.\u001b[39mclose()\n\u001b[1;32m    <a href='file:///usr/local/Caskroom/miniforge/base/envs/.myenv/lib/python3.8/site-packages/pandas/io/json/_json.py?line=747'>748</a>\u001b[0m \u001b[39mreturn\u001b[39;00m obj\n",
      "File \u001b[0;32m/usr/local/Caskroom/miniforge/base/envs/.myenv/lib/python3.8/site-packages/pandas/io/json/_json.py:773\u001b[0m, in \u001b[0;36mJsonReader._get_object_parser\u001b[0;34m(self, json)\u001b[0m\n\u001b[1;32m    <a href='file:///usr/local/Caskroom/miniforge/base/envs/.myenv/lib/python3.8/site-packages/pandas/io/json/_json.py?line=770'>771</a>\u001b[0m     \u001b[39mif\u001b[39;00m \u001b[39mnot\u001b[39;00m \u001b[39misinstance\u001b[39m(dtype, \u001b[39mbool\u001b[39m):\n\u001b[1;32m    <a href='file:///usr/local/Caskroom/miniforge/base/envs/.myenv/lib/python3.8/site-packages/pandas/io/json/_json.py?line=771'>772</a>\u001b[0m         kwargs[\u001b[39m\"\u001b[39m\u001b[39mdtype\u001b[39m\u001b[39m\"\u001b[39m] \u001b[39m=\u001b[39m dtype\n\u001b[0;32m--> <a href='file:///usr/local/Caskroom/miniforge/base/envs/.myenv/lib/python3.8/site-packages/pandas/io/json/_json.py?line=772'>773</a>\u001b[0m     obj \u001b[39m=\u001b[39m SeriesParser(json, \u001b[39m*\u001b[39;49m\u001b[39m*\u001b[39;49mkwargs)\u001b[39m.\u001b[39;49mparse()\n\u001b[1;32m    <a href='file:///usr/local/Caskroom/miniforge/base/envs/.myenv/lib/python3.8/site-packages/pandas/io/json/_json.py?line=774'>775</a>\u001b[0m \u001b[39mreturn\u001b[39;00m obj\n",
      "File \u001b[0;32m/usr/local/Caskroom/miniforge/base/envs/.myenv/lib/python3.8/site-packages/pandas/io/json/_json.py:880\u001b[0m, in \u001b[0;36mParser.parse\u001b[0;34m(self)\u001b[0m\n\u001b[1;32m    <a href='file:///usr/local/Caskroom/miniforge/base/envs/.myenv/lib/python3.8/site-packages/pandas/io/json/_json.py?line=877'>878</a>\u001b[0m     \u001b[39mself\u001b[39m\u001b[39m.\u001b[39m_parse_numpy()\n\u001b[1;32m    <a href='file:///usr/local/Caskroom/miniforge/base/envs/.myenv/lib/python3.8/site-packages/pandas/io/json/_json.py?line=878'>879</a>\u001b[0m \u001b[39melse\u001b[39;00m:\n\u001b[0;32m--> <a href='file:///usr/local/Caskroom/miniforge/base/envs/.myenv/lib/python3.8/site-packages/pandas/io/json/_json.py?line=879'>880</a>\u001b[0m     \u001b[39mself\u001b[39;49m\u001b[39m.\u001b[39;49m_parse_no_numpy()\n\u001b[1;32m    <a href='file:///usr/local/Caskroom/miniforge/base/envs/.myenv/lib/python3.8/site-packages/pandas/io/json/_json.py?line=881'>882</a>\u001b[0m \u001b[39mif\u001b[39;00m \u001b[39mself\u001b[39m\u001b[39m.\u001b[39mobj \u001b[39mis\u001b[39;00m \u001b[39mNone\u001b[39;00m:\n\u001b[1;32m    <a href='file:///usr/local/Caskroom/miniforge/base/envs/.myenv/lib/python3.8/site-packages/pandas/io/json/_json.py?line=882'>883</a>\u001b[0m     \u001b[39mreturn\u001b[39;00m \u001b[39mNone\u001b[39;00m\n",
      "File \u001b[0;32m/usr/local/Caskroom/miniforge/base/envs/.myenv/lib/python3.8/site-packages/pandas/io/json/_json.py:1041\u001b[0m, in \u001b[0;36mSeriesParser._parse_no_numpy\u001b[0;34m(self)\u001b[0m\n\u001b[1;32m   <a href='file:///usr/local/Caskroom/miniforge/base/envs/.myenv/lib/python3.8/site-packages/pandas/io/json/_json.py?line=1039'>1040</a>\u001b[0m \u001b[39mdef\u001b[39;00m \u001b[39m_parse_no_numpy\u001b[39m(\u001b[39mself\u001b[39m):\n\u001b[0;32m-> <a href='file:///usr/local/Caskroom/miniforge/base/envs/.myenv/lib/python3.8/site-packages/pandas/io/json/_json.py?line=1040'>1041</a>\u001b[0m     data \u001b[39m=\u001b[39m loads(\u001b[39mself\u001b[39;49m\u001b[39m.\u001b[39;49mjson, precise_float\u001b[39m=\u001b[39;49m\u001b[39mself\u001b[39;49m\u001b[39m.\u001b[39;49mprecise_float)\n\u001b[1;32m   <a href='file:///usr/local/Caskroom/miniforge/base/envs/.myenv/lib/python3.8/site-packages/pandas/io/json/_json.py?line=1042'>1043</a>\u001b[0m     \u001b[39mif\u001b[39;00m \u001b[39mself\u001b[39m\u001b[39m.\u001b[39morient \u001b[39m==\u001b[39m \u001b[39m\"\u001b[39m\u001b[39msplit\u001b[39m\u001b[39m\"\u001b[39m:\n\u001b[1;32m   <a href='file:///usr/local/Caskroom/miniforge/base/envs/.myenv/lib/python3.8/site-packages/pandas/io/json/_json.py?line=1043'>1044</a>\u001b[0m         decoded \u001b[39m=\u001b[39m {\u001b[39mstr\u001b[39m(k): v \u001b[39mfor\u001b[39;00m k, v \u001b[39min\u001b[39;00m data\u001b[39m.\u001b[39mitems()}\n",
      "\u001b[0;31mValueError\u001b[0m: Trailing data"
     ]
    }
   ],
   "source": [
    "df = pd.read_json(filepath, typ='series')\n",
    "df.head(5)"
   ]
  },
  {
   "cell_type": "markdown",
   "metadata": {},
   "source": [
    "## #3: `time` Table\n",
    "#### Extract Data for Time Table\n",
    "- Filter records by `NextSong` action\n",
    "- Convert the `ts` timestamp column to datetime\n",
    "  - Hint: the current timestamp is in milliseconds\n",
    "- Extract the timestamp, hour, day, week of year, month, year, and weekday from the `ts` column and set `time_data` to a list containing these values in order\n",
    "  - Hint: use pandas' [`dt` attribute](https://pandas.pydata.org/pandas-docs/stable/reference/api/pandas.Series.dt.html) to access easily datetimelike properties.\n",
    "- Specify labels for these columns and set to `column_labels`\n",
    "- Create a dataframe, `time_df,` containing the time data for this file by combining `column_labels` and `time_data` into a dictionary and converting this into a dataframe"
   ]
  },
  {
   "cell_type": "code",
   "execution_count": null,
   "metadata": {},
   "outputs": [],
   "source": [
    "df = \n",
    "df.head()"
   ]
  },
  {
   "cell_type": "code",
   "execution_count": null,
   "metadata": {},
   "outputs": [],
   "source": [
    "t = \n",
    "t.head()"
   ]
  },
  {
   "cell_type": "code",
   "execution_count": null,
   "metadata": {},
   "outputs": [],
   "source": [
    "time_data = ()\n",
    "column_labels = ()"
   ]
  },
  {
   "cell_type": "code",
   "execution_count": null,
   "metadata": {},
   "outputs": [],
   "source": [
    "time_df = \n",
    "time_df.head()"
   ]
  },
  {
   "cell_type": "markdown",
   "metadata": {},
   "source": [
    "#### Insert Records into Time Table\n",
    "Implement the `time_table_insert` query in `sql_queries.py` and run the cell below to insert records for the timestamps in this log file into the `time` table. Remember to run `create_tables.py` before running the cell below to ensure you've created/resetted the `time` table in the sparkify database."
   ]
  },
  {
   "cell_type": "code",
   "execution_count": null,
   "metadata": {},
   "outputs": [],
   "source": [
    "for i, row in time_df.iterrows():\n",
    "    cur.execute(time_table_insert, list(row))\n",
    "    conn.commit()"
   ]
  },
  {
   "cell_type": "markdown",
   "metadata": {},
   "source": [
    "Run `test.ipynb` to see if you've successfully added records to this table."
   ]
  },
  {
   "cell_type": "markdown",
   "metadata": {},
   "source": [
    "## #4: `users` Table\n",
    "#### Extract Data for Users Table\n",
    "- Select columns for user ID, first name, last name, gender and level and set to `user_df`"
   ]
  },
  {
   "cell_type": "code",
   "execution_count": null,
   "metadata": {},
   "outputs": [],
   "source": [
    "user_df = "
   ]
  },
  {
   "cell_type": "markdown",
   "metadata": {},
   "source": [
    "#### Insert Records into Users Table\n",
    "Implement the `user_table_insert` query in `sql_queries.py` and run the cell below to insert records for the users in this log file into the `users` table. Remember to run `create_tables.py` before running the cell below to ensure you've created/resetted the `users` table in the sparkify database."
   ]
  },
  {
   "cell_type": "code",
   "execution_count": null,
   "metadata": {},
   "outputs": [],
   "source": [
    "for i, row in user_df.iterrows():\n",
    "    cur.execute(user_table_insert, row)\n",
    "    conn.commit()"
   ]
  },
  {
   "cell_type": "markdown",
   "metadata": {},
   "source": [
    "Run `test.ipynb` to see if you've successfully added records to this table."
   ]
  },
  {
   "cell_type": "markdown",
   "metadata": {},
   "source": [
    "## #5: `songplays` Table\n",
    "#### Extract Data and Songplays Table\n",
    "This one is a little more complicated since information from the songs table, artists table, and original log file are all needed for the `songplays` table. Since the log file does not specify an ID for either the song or the artist, you'll need to get the song ID and artist ID by querying the songs and artists tables to find matches based on song title, artist name, and song duration time.\n",
    "- Implement the `song_select` query in `sql_queries.py` to find the song ID and artist ID based on the title, artist name, and duration of a song.\n",
    "- Select the timestamp, user ID, level, song ID, artist ID, session ID, location, and user agent and set to `songplay_data`\n",
    "\n",
    "#### Insert Records into Songplays Table\n",
    "- Implement the `songplay_table_insert` query and run the cell below to insert records for the songplay actions in this log file into the `songplays` table. Remember to run `create_tables.py` before running the cell below to ensure you've created/resetted the `songplays` table in the sparkify database."
   ]
  },
  {
   "cell_type": "code",
   "execution_count": null,
   "metadata": {},
   "outputs": [],
   "source": [
    "for index, row in df.iterrows():\n",
    "\n",
    "    # get songid and artistid from song and artist tables\n",
    "    cur.execute(song_select, (row.song, row.artist, row.length))\n",
    "    results = cur.fetchone()\n",
    "    \n",
    "    if results:\n",
    "        songid, artistid = results\n",
    "    else:\n",
    "        songid, artistid = None, None\n",
    "\n",
    "    # insert songplay record\n",
    "    songplay_data = ()\n",
    "    cur.execute(songplay_table_insert, songplay_data)\n",
    "    conn.commit()"
   ]
  },
  {
   "cell_type": "markdown",
   "metadata": {},
   "source": [
    "Run `test.ipynb` to see if you've successfully added records to this table."
   ]
  },
  {
   "cell_type": "markdown",
   "metadata": {},
   "source": [
    "# Close Connection to Sparkify Database"
   ]
  },
  {
   "cell_type": "code",
   "execution_count": null,
   "metadata": {},
   "outputs": [],
   "source": [
    "conn.close()"
   ]
  },
  {
   "cell_type": "markdown",
   "metadata": {},
   "source": [
    "# Implement `etl.py`\n",
    "Use what you've completed in this notebook to implement `etl.py`."
   ]
  },
  {
   "cell_type": "code",
   "execution_count": null,
   "metadata": {},
   "outputs": [],
   "source": []
  }
 ],
 "metadata": {
  "interpreter": {
   "hash": "150b214e28b6c2ea9a58b571df7d8c96a11b2e2cc9e3922579b9e14dbf478822"
  },
  "kernelspec": {
   "display_name": "Python 3.8.5 ('.myenv')",
   "language": "python",
   "name": "python3"
  },
  "language_info": {
   "codemirror_mode": {
    "name": "ipython",
    "version": 3
   },
   "file_extension": ".py",
   "mimetype": "text/x-python",
   "name": "python",
   "nbconvert_exporter": "python",
   "pygments_lexer": "ipython3",
   "version": "3.8.5"
  }
 },
 "nbformat": 4,
 "nbformat_minor": 2
}
